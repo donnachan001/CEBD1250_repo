{
 "cells": [
  {
   "cell_type": "code",
   "execution_count": 1,
   "metadata": {},
   "outputs": [
    {
     "name": "stdout",
     "output_type": "stream",
     "text": [
      "Enter a number 56\n",
      "56 is EVEN\n"
     ]
    }
   ],
   "source": [
    "#use Mod(%), remainder, to determine even or odd\n",
    "x = int(input(\"Enter a number \"))\n",
    "if x % 2 == 0:   \n",
    "    print (x, \"is EVEN\")\n",
    "else:\n",
    "    print (x, \"is ODD\")"
   ]
  },
  {
   "cell_type": "code",
   "execution_count": 2,
   "metadata": {},
   "outputs": [
    {
     "name": "stdout",
     "output_type": "stream",
     "text": [
      "[4, 16, 36, 64, 100]\n"
     ]
    }
   ],
   "source": [
    "#use For loop and Mod(%) to iterate thru array\n",
    "a=[1,4,9,16,25,36,49,64,81,100]\n",
    "evens=[]\n",
    "for x in a:\n",
    "    if x % 2 == 0:        \n",
    "        evens.append(x)\n",
    "print(evens)"
   ]
  },
  {
   "cell_type": "code",
   "execution_count": 3,
   "metadata": {},
   "outputs": [
    {
     "name": "stdout",
     "output_type": "stream",
     "text": [
      "100\n"
     ]
    }
   ],
   "source": [
    "#use max function\n",
    "a=[1,4,9,16,25,36,49,64,81,100]\n",
    "print (max(a))"
   ]
  },
  {
   "cell_type": "code",
   "execution_count": 4,
   "metadata": {},
   "outputs": [
    {
     "name": "stdout",
     "output_type": "stream",
     "text": [
      "Enter a string girl\n",
      "girl is not a palindrome\n"
     ]
    }
   ],
   "source": [
    "s = input(\"Enter a string \")\n",
    "\n",
    "if s == s[::-1]:\n",
    "    print(s, \"is a palindrome\")\n",
    "else:\n",
    "    print(s, \"is not a palindrome\")\n",
    "    "
   ]
  },
  {
   "cell_type": "code",
   "execution_count": 5,
   "metadata": {},
   "outputs": [
    {
     "name": "stdout",
     "output_type": "stream",
     "text": [
      "Enter number of Fibonnaci to generate: 12\n",
      "0\n",
      "1\n",
      "1\n",
      "2\n",
      "3\n",
      "5\n",
      "8\n",
      "13\n",
      "21\n",
      "34\n",
      "55\n",
      "89\n"
     ]
    }
   ],
   "source": [
    "#Fibonacci using While loop\n",
    "\n",
    "# Fibonacci series will start at 0 and travel upto below number\n",
    "FibN = int(input(\"Enter number of Fibonnaci to generate: \"))\n",
    "\n",
    "# Initializing First and Second Values of a Series\n",
    "i = 0\n",
    "n1 = 0\n",
    "n2 = 1\n",
    "           \n",
    "# Find & Displaying Fibonacci series\n",
    "while(i < FibN):\n",
    "           if(i <= 1):\n",
    "                      n = i\n",
    "           else:\n",
    "                      n = n1 + n2\n",
    "                      n1 = n2\n",
    "                      n2 = n\n",
    "           print(n)\n",
    "           i = i + 1"
   ]
  },
  {
   "cell_type": "code",
   "execution_count": 6,
   "metadata": {},
   "outputs": [
    {
     "name": "stdout",
     "output_type": "stream",
     "text": [
      "Enter a number 8\n",
      "64\n"
     ]
    }
   ],
   "source": [
    "x = int(input(\"Enter a number \"))\n",
    "print (x**2)"
   ]
  },
  {
   "cell_type": "code",
   "execution_count": 7,
   "metadata": {},
   "outputs": [
    {
     "name": "stdout",
     "output_type": "stream",
     "text": [
      "Average is 38.5\n",
      "38.5\n"
     ]
    }
   ],
   "source": [
    "a=[1,4,9,16,25,36,49,64,81,100]\n",
    "sum_a=sum(a)\n",
    "len_a=len(a)\n",
    "print (\"Average is\",sum_a/len_a)\n",
    "\n",
    "#Alternatively:\n",
    "\n",
    "from statistics import mean\n",
    "print(mean(a))"
   ]
  },
  {
   "cell_type": "code",
   "execution_count": 8,
   "metadata": {},
   "outputs": [
    {
     "name": "stdout",
     "output_type": "stream",
     "text": [
      "Enter a string How many vowels are in this sentence\n",
      "11\n"
     ]
    }
   ],
   "source": [
    "s = input(\"Enter a string \")\n",
    "count = 0\n",
    "\n",
    "for x in s:\n",
    "    if x in \"aeiouAEIOU\":\n",
    "        count += 1\n",
    "print (count)"
   ]
  },
  {
   "cell_type": "code",
   "execution_count": 9,
   "metadata": {},
   "outputs": [
    {
     "name": "stdout",
     "output_type": "stream",
     "text": [
      "Enter temperature in Fahrenheit 100\n",
      "Celsius =  37.77777777777778\n"
     ]
    }
   ],
   "source": [
    "f = int(input(\"Enter temperature in Fahrenheit \"))\n",
    "\n",
    "print (\"Celsius = \",(f - 32) / 1.8)"
   ]
  },
  {
   "cell_type": "code",
   "execution_count": 10,
   "metadata": {},
   "outputs": [
    {
     "name": "stdout",
     "output_type": "stream",
     "text": [
      "Enter temperature in Celsuis -30\n",
      "Fahrenheit =  -22.0\n"
     ]
    }
   ],
   "source": [
    "c = int(input(\"Enter temperature in Celsuis \"))\n",
    "\n",
    "print (\"Fahrenheit = \",(c * 1.8) + 32)"
   ]
  },
  {
   "cell_type": "code",
   "execution_count": null,
   "metadata": {},
   "outputs": [],
   "source": []
  }
 ],
 "metadata": {
  "kernelspec": {
   "display_name": "Python 3",
   "language": "python",
   "name": "python3"
  },
  "language_info": {
   "codemirror_mode": {
    "name": "ipython",
    "version": 3
   },
   "file_extension": ".py",
   "mimetype": "text/x-python",
   "name": "python",
   "nbconvert_exporter": "python",
   "pygments_lexer": "ipython3",
   "version": "3.7.1"
  }
 },
 "nbformat": 4,
 "nbformat_minor": 2
}
